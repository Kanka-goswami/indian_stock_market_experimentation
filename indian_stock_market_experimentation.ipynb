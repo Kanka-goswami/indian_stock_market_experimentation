{
 "cells": [
  {
   "cell_type": "markdown",
   "metadata": {},
   "source": [
    "# Indian Stock Market Experimentation\n",
    "\n",
    "This is a practice notebook with the following intentions\n",
    "1. To download data from NSE and BSE website\n",
    "2. To save data and interact with SQL (mySQL)\n",
    "3. To perform analysis on the ddata through SQL querries"
   ]
  },
  {
   "cell_type": "code",
   "execution_count": null,
   "metadata": {},
   "outputs": [],
   "source": [
    "import datetime as dt\n",
    "import numpy as np\n",
    "import pandas as pd"
   ]
  },
  {
   "cell_type": "code",
   "execution_count": null,
   "metadata": {},
   "outputs": [],
   "source": []
  }
 ],
 "metadata": {
  "language_info": {
   "name": "python"
  },
  "orig_nbformat": 4
 },
 "nbformat": 4,
 "nbformat_minor": 2
}
